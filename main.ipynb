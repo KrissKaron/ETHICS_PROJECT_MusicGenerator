{
 "cells": [
  {
   "cell_type": "markdown",
   "metadata": {},
   "source": [
    "# Progression generator"
   ]
  },
  {
   "cell_type": "code",
   "execution_count": 4,
   "metadata": {},
   "outputs": [
    {
     "name": "stdout",
     "output_type": "stream",
     "text": [
      "Gen 1: Best Fitness = 61\n",
      "Gen 2: Best Fitness = 68\n",
      "Gen 3: Best Fitness = 68\n",
      "Gen 4: Best Fitness = 75\n",
      "Gen 5: Best Fitness = 75\n",
      "Gen 6: Best Fitness = 78\n",
      "Gen 7: Best Fitness = 85\n",
      "Gen 8: Best Fitness = 85\n",
      "Gen 9: Best Fitness = 85\n",
      "Gen 10: Best Fitness = 85\n",
      "Gen 11: Best Fitness = 85\n",
      "Gen 12: Best Fitness = 85\n",
      "Gen 13: Best Fitness = 85\n",
      "Gen 14: Best Fitness = 85\n",
      "Gen 15: Best Fitness = 85\n",
      "Gen 16: Best Fitness = 85\n",
      "Gen 17: Best Fitness = 85\n",
      "Gen 18: Best Fitness = 85\n",
      "Gen 19: Best Fitness = 85\n",
      "Gen 20: Best Fitness = 85\n",
      "Gen 21: Best Fitness = 85\n",
      "Gen 22: Best Fitness = 85\n",
      "Gen 23: Best Fitness = 85\n",
      "Gen 24: Best Fitness = 85\n",
      "Gen 25: Best Fitness = 85\n",
      "Gen 26: Best Fitness = 85\n",
      "Gen 27: Best Fitness = 85\n",
      "Gen 28: Best Fitness = 85\n",
      "Gen 29: Best Fitness = 85\n",
      "Gen 30: Best Fitness = 85\n",
      "Gen 31: Best Fitness = 85\n",
      "Gen 32: Best Fitness = 85\n",
      "Gen 33: Best Fitness = 85\n",
      "Gen 34: Best Fitness = 85\n",
      "Gen 35: Best Fitness = 85\n",
      "Gen 36: Best Fitness = 85\n",
      "Gen 37: Best Fitness = 85\n",
      "Gen 38: Best Fitness = 85\n",
      "Gen 39: Best Fitness = 85\n",
      "Gen 40: Best Fitness = 85\n",
      "Gen 41: Best Fitness = 85\n",
      "Gen 42: Best Fitness = 85\n",
      "Gen 43: Best Fitness = 85\n",
      "Gen 44: Best Fitness = 85\n",
      "Gen 45: Best Fitness = 85\n",
      "Gen 46: Best Fitness = 85\n",
      "Gen 47: Best Fitness = 85\n",
      "Gen 48: Best Fitness = 85\n",
      "Gen 49: Best Fitness = 85\n",
      "Gen 50: Best Fitness = 85\n",
      "\n",
      "🎵 Best Chord Progression: ['I', 'IV', 'vi', 'vii', 'I', 'V', 'I', 'IV', 'V', 'vi', 'IV', 'V', 'IV', 'V', 'I', 'ii']\n"
     ]
    }
   ],
   "source": [
    "from tamas import Population\n",
    "\n",
    "pop = Population(size=30, length=8)\n",
    "best_chords = pop.evolve()\n",
    "print(\"\\n🎵 Best Chord Progression:\", best_chords)"
   ]
  },
  {
   "cell_type": "markdown",
   "metadata": {},
   "source": [
    "### Generate MIDI"
   ]
  },
  {
   "cell_type": "code",
   "execution_count": 2,
   "metadata": {},
   "outputs": [
    {
     "name": "stdout",
     "output_type": "stream",
     "text": [
      "pygame 2.6.1 (SDL 2.28.4, Python 3.12.3)\n",
      "Hello from the pygame community. https://www.pygame.org/contribute.html\n",
      "MIDI saved: output.mid\n"
     ]
    }
   ],
   "source": [
    "from midi import *\n",
    "create_midi(chord_progression=best_chords, filename=\"output.mid\")"
   ]
  },
  {
   "cell_type": "markdown",
   "metadata": {},
   "source": [
    "### Play the MIDI"
   ]
  },
  {
   "cell_type": "code",
   "execution_count": 3,
   "metadata": {},
   "outputs": [
    {
     "name": "stdout",
     "output_type": "stream",
     "text": [
      "🎮 Playing MIDI file in 8-bit mode...\n"
     ]
    }
   ],
   "source": [
    "play_midi(\"output.mid\")"
   ]
  }
 ],
 "metadata": {
  "kernelspec": {
   "display_name": "Python 3",
   "language": "python",
   "name": "python3"
  },
  "language_info": {
   "codemirror_mode": {
    "name": "ipython",
    "version": 3
   },
   "file_extension": ".py",
   "mimetype": "text/x-python",
   "name": "python",
   "nbconvert_exporter": "python",
   "pygments_lexer": "ipython3",
   "version": "3.12.3"
  }
 },
 "nbformat": 4,
 "nbformat_minor": 2
}
