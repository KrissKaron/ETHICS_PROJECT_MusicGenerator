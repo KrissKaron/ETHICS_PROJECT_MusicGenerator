{
 "cells": [
  {
   "cell_type": "markdown",
   "metadata": {},
   "source": [
    "# Progression generator"
   ]
  },
  {
   "cell_type": "code",
   "execution_count": 1,
   "metadata": {},
   "outputs": [
    {
     "name": "stdout",
     "output_type": "stream",
     "text": [
      "Gen 1: Best Fitness = 61\n",
      "Gen 2: Best Fitness = 68\n",
      "Gen 3: Best Fitness = 75\n",
      "Gen 4: Best Fitness = 75\n",
      "Gen 5: Best Fitness = 75\n",
      "Gen 6: Best Fitness = 75\n",
      "Gen 7: Best Fitness = 75\n",
      "Gen 8: Best Fitness = 75\n",
      "Gen 9: Best Fitness = 75\n",
      "Gen 10: Best Fitness = 75\n",
      "Gen 11: Best Fitness = 75\n",
      "Gen 12: Best Fitness = 75\n",
      "Gen 13: Best Fitness = 75\n",
      "Gen 14: Best Fitness = 75\n",
      "Gen 15: Best Fitness = 75\n",
      "Gen 16: Best Fitness = 75\n",
      "Gen 17: Best Fitness = 75\n",
      "Gen 18: Best Fitness = 75\n",
      "Gen 19: Best Fitness = 75\n",
      "Gen 20: Best Fitness = 75\n",
      "Gen 21: Best Fitness = 75\n",
      "Gen 22: Best Fitness = 75\n",
      "Gen 23: Best Fitness = 75\n",
      "Gen 24: Best Fitness = 75\n",
      "Gen 25: Best Fitness = 75\n",
      "Gen 26: Best Fitness = 75\n",
      "Gen 27: Best Fitness = 75\n",
      "Gen 28: Best Fitness = 75\n",
      "Gen 29: Best Fitness = 75\n",
      "Gen 30: Best Fitness = 75\n",
      "Gen 31: Best Fitness = 75\n",
      "Gen 32: Best Fitness = 75\n",
      "Gen 33: Best Fitness = 75\n",
      "Gen 34: Best Fitness = 75\n",
      "Gen 35: Best Fitness = 75\n",
      "Gen 36: Best Fitness = 75\n",
      "Gen 37: Best Fitness = 75\n",
      "Gen 38: Best Fitness = 75\n",
      "Gen 39: Best Fitness = 75\n",
      "Gen 40: Best Fitness = 75\n",
      "Gen 41: Best Fitness = 75\n",
      "Gen 42: Best Fitness = 75\n",
      "Gen 43: Best Fitness = 75\n",
      "Gen 44: Best Fitness = 75\n",
      "Gen 45: Best Fitness = 75\n",
      "Gen 46: Best Fitness = 75\n",
      "Gen 47: Best Fitness = 75\n",
      "Gen 48: Best Fitness = 75\n",
      "Gen 49: Best Fitness = 75\n",
      "Gen 50: Best Fitness = 75\n",
      "\n",
      "🎵 Best Chord Progression: ['I', 'I', 'ii', 'IV', 'iii', 'IV', 'I', 'IV', 'I', 'vi', 'I', 'IV', 'I', 'IV', 'vi', 'I']\n"
     ]
    }
   ],
   "source": [
    "from tamas import Population\n",
    "\n",
    "pop = Population(size=30, length=8)\n",
    "best_chords = pop.evolve()\n",
    "print(\"\\n🎵 Best Chord Progression:\", best_chords)"
   ]
  },
  {
   "cell_type": "markdown",
   "metadata": {},
   "source": [
    "### Generate MIDI"
   ]
  },
  {
   "cell_type": "code",
   "execution_count": 2,
   "metadata": {},
   "outputs": [
    {
     "name": "stdout",
     "output_type": "stream",
     "text": [
      "pygame 2.6.1 (SDL 2.28.4, Python 3.12.3)\n",
      "Hello from the pygame community. https://www.pygame.org/contribute.html\n",
      "MIDI saved: output.mid\n"
     ]
    }
   ],
   "source": [
    "from midi import *\n",
    "create_midi(chord_progression=best_chords, filename=\"output.mid\")"
   ]
  },
  {
   "cell_type": "markdown",
   "metadata": {},
   "source": [
    "### Play the MIDI"
   ]
  },
  {
   "cell_type": "code",
   "execution_count": 3,
   "metadata": {},
   "outputs": [
    {
     "name": "stdout",
     "output_type": "stream",
     "text": [
      "🎮 Playing MIDI file in 8-bit mode...\n"
     ]
    },
    {
     "ename": "KeyboardInterrupt",
     "evalue": "",
     "output_type": "error",
     "traceback": [
      "\u001b[0;31m---------------------------------------------------------------------------\u001b[0m",
      "\u001b[0;31mKeyboardInterrupt\u001b[0m                         Traceback (most recent call last)",
      "Cell \u001b[0;32mIn[3], line 1\u001b[0m\n\u001b[0;32m----> 1\u001b[0m \u001b[43mplay_midi\u001b[49m\u001b[43m(\u001b[49m\u001b[38;5;124;43m\"\u001b[39;49m\u001b[38;5;124;43moutput.mid\u001b[39;49m\u001b[38;5;124;43m\"\u001b[39;49m\u001b[43m)\u001b[49m\n",
      "File \u001b[0;32m~/Desktop/MusicGenerator/midi.py:60\u001b[0m, in \u001b[0;36mplay_midi\u001b[0;34m(midi_file)\u001b[0m\n\u001b[1;32m     58\u001b[0m pygame\u001b[38;5;241m.\u001b[39mmixer\u001b[38;5;241m.\u001b[39mmusic\u001b[38;5;241m.\u001b[39mplay()\n\u001b[1;32m     59\u001b[0m \u001b[38;5;28;01mwhile\u001b[39;00m pygame\u001b[38;5;241m.\u001b[39mmixer\u001b[38;5;241m.\u001b[39mmusic\u001b[38;5;241m.\u001b[39mget_busy():\n\u001b[0;32m---> 60\u001b[0m     \u001b[43mpygame\u001b[49m\u001b[38;5;241;43m.\u001b[39;49m\u001b[43mtime\u001b[49m\u001b[38;5;241;43m.\u001b[39;49m\u001b[43mClock\u001b[49m\u001b[43m(\u001b[49m\u001b[43m)\u001b[49m\u001b[38;5;241;43m.\u001b[39;49m\u001b[43mtick\u001b[49m\u001b[43m(\u001b[49m\u001b[38;5;241;43m2\u001b[39;49m\u001b[43m)\u001b[49m\n",
      "\u001b[0;31mKeyboardInterrupt\u001b[0m: "
     ]
    }
   ],
   "source": [
    "play_midi(\"output.mid\")"
   ]
  }
 ],
 "metadata": {
  "kernelspec": {
   "display_name": "Python 3",
   "language": "python",
   "name": "python3"
  },
  "language_info": {
   "codemirror_mode": {
    "name": "ipython",
    "version": 3
   },
   "file_extension": ".py",
   "mimetype": "text/x-python",
   "name": "python",
   "nbconvert_exporter": "python",
   "pygments_lexer": "ipython3",
   "version": "3.12.3"
  }
 },
 "nbformat": 4,
 "nbformat_minor": 2
}
